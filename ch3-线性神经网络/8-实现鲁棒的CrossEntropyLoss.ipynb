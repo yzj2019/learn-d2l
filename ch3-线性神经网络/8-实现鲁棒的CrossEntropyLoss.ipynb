{
 "cells": [
  {
   "cell_type": "code",
   "execution_count": 1,
   "metadata": {},
   "outputs": [],
   "source": [
    "import torch"
   ]
  },
  {
   "cell_type": "code",
   "execution_count": 2,
   "metadata": {},
   "outputs": [
    {
     "name": "stdout",
     "output_type": "stream",
     "text": [
      "tensor([[1],\n",
      "        [3]])\n",
      "tensor([[0],\n",
      "        [1]])\n"
     ]
    }
   ],
   "source": [
    "y = torch.tensor([[1, 0], [2, 3]])\n",
    "val, idx = y.max(dim=1, keepdim=True)\n",
    "print(val)\n",
    "print(idx)"
   ]
  },
  {
   "cell_type": "code",
   "execution_count": 3,
   "metadata": {},
   "outputs": [
    {
     "data": {
      "text/plain": [
       "tensor([0, 1])"
      ]
     },
     "execution_count": 3,
     "metadata": {},
     "output_type": "execute_result"
    }
   ],
   "source": [
    "idx.view(idx.shape[0])"
   ]
  },
  {
   "cell_type": "code",
   "execution_count": 4,
   "metadata": {},
   "outputs": [
    {
     "data": {
      "text/plain": [
       "tensor([1, 3])"
      ]
     },
     "execution_count": 4,
     "metadata": {},
     "output_type": "execute_result"
    }
   ],
   "source": [
    "# 转成一维向量后，就能使用前面第6节中的“索引方式”了\n",
    "y[range(y.shape[0]), idx.view(idx.shape[0])]"
   ]
  },
  {
   "cell_type": "code",
   "execution_count": 5,
   "metadata": {},
   "outputs": [],
   "source": [
    "def CrossEntropyLoss(O, y):\n",
    "    '''解决溢出问题的CrossEntropyLoss，集成了softmax和cross_entropy，返回一维Tensor向量'''\n",
    "    val, idx = O.max(dim=1, keepdim=True)\n",
    "    O_sub = O - val                 # 减去每行的最大值\n",
    "    O_exp = torch.exp(O_sub)        # 按元素做exp\n",
    "    O_exp_sum = O_exp.sum(dim=1)    # 行和，已经压缩成Tensor向量了\n",
    "    part2 = torch.log(O_exp_sum)    # 取自然对数\n",
    "    part1 = O_sub[range(O_exp.shape[0]), y] # 类似上面的索引方式\n",
    "    return - part1 + part2"
   ]
  },
  {
   "cell_type": "code",
   "execution_count": 8,
   "metadata": {},
   "outputs": [
    {
     "data": {
      "text/plain": [
       "tensor([   -inf,  1.0986, -1.5924])"
      ]
     },
     "execution_count": 8,
     "metadata": {},
     "output_type": "execute_result"
    }
   ],
   "source": [
    "y = torch.tensor([1, 2, 0])\n",
    "O = torch.tensor([[1, -float('inf'), 1], [1, 1, 1], [1, 2, 3]])\n",
    "CrossEntropyLoss(O, y)"
   ]
  }
 ],
 "metadata": {
  "interpreter": {
   "hash": "88474ca0ac5bd289cfc2b7cff5e070fc2eb64be0b001ce0011ec337ea9a55b21"
  },
  "kernelspec": {
   "display_name": "Python 3.8.12 64-bit ('d2l': conda)",
   "language": "python",
   "name": "python3"
  },
  "language_info": {
   "codemirror_mode": {
    "name": "ipython",
    "version": 3
   },
   "file_extension": ".py",
   "mimetype": "text/x-python",
   "name": "python",
   "nbconvert_exporter": "python",
   "pygments_lexer": "ipython3",
   "version": "3.8.12"
  },
  "orig_nbformat": 4
 },
 "nbformat": 4,
 "nbformat_minor": 2
}

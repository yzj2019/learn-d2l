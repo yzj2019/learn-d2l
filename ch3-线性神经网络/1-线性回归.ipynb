{
 "cells": [
  {
   "cell_type": "markdown",
   "metadata": {},
   "source": [
    "### 2.基础优化算法"
   ]
  },
  {
   "cell_type": "markdown",
   "metadata": {},
   "source": [
    "#### 2.1梯度下降"
   ]
  },
  {
   "cell_type": "markdown",
   "metadata": {},
   "source": [
    "  - 挑选初始值$\\mathbf{w_0}$\n",
    "  - 重复迭代参数t=1,2,3；$\\mathbf{w}_t = \\mathbf{w}_{t-1} - \\eta \\frac{\\partial{L}}{\\partial{\\mathbf{w}_{t-1}}}$\n",
    "    - 沿梯度反方向，将减小损失函数值\n",
    "    - $\\eta$学习率：步长的超参数\n",
    "  - 选择学习率：\n",
    "    - 不能太小，因为计算梯度很贵，不能算太多；\n",
    "    - 也不能太大，会震荡。"
   ]
  },
  {
   "cell_type": "markdown",
   "metadata": {},
   "source": [
    "#### 2.2小批量随机梯度下降"
   ]
  },
  {
   "cell_type": "markdown",
   "metadata": {},
   "source": [
    "  - 在整个训练集上算梯度太贵；\n",
    "  - 可以随机采样b个样本$i_1,i_2,...,i_b$来近似代替整个训练集上的梯度：$\\frac{1}{b}\\sum_{i\\in I_b}{L(\\mathbf{X}_i, y_i, \\mathbf{W})}$；\n",
    "  - b是批量大小，另一个重要的超参数：\n",
    "    - 不能太小，不具有代表性；\n",
    "    - 也不能太大，浪费计算，失去了本身的意义。"
   ]
  },
  {
   "cell_type": "markdown",
   "metadata": {},
   "source": [
    "### 3.矢量化加速"
   ]
  },
  {
   "cell_type": "markdown",
   "metadata": {},
   "source": [
    "希望对整个mini batch进行处理，将计算转为矩阵运算，避免在python中编写高代价的循环。"
   ]
  },
  {
   "cell_type": "code",
   "execution_count": 6,
   "metadata": {},
   "outputs": [],
   "source": [
    "import math\n",
    "import time\n",
    "import numpy as np\n",
    "import torch\n",
    "\n",
    "n = 10000\n",
    "a = torch.ones(n)\n",
    "b = torch.ones(n)"
   ]
  },
  {
   "cell_type": "code",
   "execution_count": 7,
   "metadata": {},
   "outputs": [],
   "source": [
    "class Timer:  #@save\n",
    "    \"\"\"记录多次运行时间\"\"\"\n",
    "    def __init__(self):\n",
    "        self.times = []\n",
    "        self.start()\n",
    "\n",
    "    def start(self):\n",
    "        \"\"\"启动计时器\"\"\"\n",
    "        self.tik = time.time()\n",
    "\n",
    "    def stop(self):\n",
    "        \"\"\"停止计时器并将时间记录在列表中\"\"\"\n",
    "        self.times.append(time.time() - self.tik)\n",
    "        return self.times[-1]\n",
    "\n",
    "    def avg(self):\n",
    "        \"\"\"返回平均时间\"\"\"\n",
    "        return sum(self.times) / len(self.times)\n",
    "\n",
    "    def sum(self):\n",
    "        \"\"\"返回时间总和\"\"\"\n",
    "        return sum(self.times)\n",
    "\n",
    "    def cumsum(self):\n",
    "        \"\"\"返回累计时间\"\"\"\n",
    "        return np.array(self.times).cumsum().tolist()"
   ]
  },
  {
   "cell_type": "code",
   "execution_count": 8,
   "metadata": {},
   "outputs": [
    {
     "data": {
      "text/plain": [
       "'0.10408 sec'"
      ]
     },
     "execution_count": 8,
     "metadata": {},
     "output_type": "execute_result"
    }
   ],
   "source": [
    "c = torch.zeros(n)\n",
    "timer = Timer()\n",
    "for i in range(n):\n",
    "    c[i] = a[i] + b[i]\n",
    "f'{timer.stop():.5f} sec'"
   ]
  },
  {
   "cell_type": "code",
   "execution_count": 9,
   "metadata": {},
   "outputs": [
    {
     "data": {
      "text/plain": [
       "'0.00075 sec'"
      ]
     },
     "execution_count": 9,
     "metadata": {},
     "output_type": "execute_result"
    }
   ],
   "source": [
    "timer.start()\n",
    "d = a + b\n",
    "f'{timer.stop():.5f} sec'"
   ]
  },
  {
   "cell_type": "markdown",
   "metadata": {},
   "source": [
    "重载运算符的矩阵运算具有明显的优势。"
   ]
  },
  {
   "cell_type": "markdown",
   "metadata": {},
   "source": [
    "### 3.正态分布与均方损失\n",
    "通过对噪声分布的假设来解读均方损失目标函数。"
   ]
  },
  {
   "cell_type": "markdown",
   "metadata": {},
   "source": [
    "均方误差损失函数（简称均方损失）可以用于线性回归的一个原因是： 我们假设了观测中包含噪声，其中噪声服从均值为0的正态分布。\n",
    "$$\n",
    "y = \\mathbf{w}^T\\mathbf{x} + b + \\epsilon, ~ \\epsilon \\sim \\mathcal{N}(0, \\sigma)\n",
    "$$\n",
    "通过给定的$\\mathbf{x}$观测到特定$y$的似然（likelihood）：$P(y|\\mathbf{x}) = \\frac{1}{\\sqrt{2\\pi \\sigma^2}} exp\\left(-\\frac{1}{2\\sigma^2}(y - \\mathbf{w}^T\\mathbf{x} - b)^2\\right)$\n",
    "\n",
    "极大似然，最小化负对数似然：$-logP(\\mathbf{y}|\\mathbf{X}) = \\sum_{i=1}^n \\frac{1}{2}log(2\\pi \\sigma^2) + \\frac{1}{2\\sigma^2}(y^{(i)} - \\mathbf{w}^T\\mathbf{x}^{(i)} - b)^2$"
   ]
  },
  {
   "cell_type": "markdown",
   "metadata": {},
   "source": [
    "### 4.从线性回归到深度网络"
   ]
  },
  {
   "cell_type": "markdown",
   "metadata": {},
   "source": [
    "每个输入都与每个输出（在本例中只有一个输出）相连， 我们将这种变换称为全连接层（fully-connected layer）或称为稠密层（dense layer）。"
   ]
  },
  {
   "cell_type": "markdown",
   "metadata": {},
   "source": [
    "### 5.小结"
   ]
  },
  {
   "cell_type": "markdown",
   "metadata": {},
   "source": [
    "  - 机器学习模型中的关键要素是训练数据、损失函数、优化算法，还有模型本身。\n",
    "  - 矢量化使数学表达上更简洁，同时运行的更快。\n",
    "  - 最小化目标函数和执行极大似然估计等价。\n",
    "  - 线性回归模型也是一个简单的神经网络"
   ]
  },
  {
   "cell_type": "markdown",
   "metadata": {},
   "source": [
    "### 6.练习"
   ]
  },
  {
   "cell_type": "markdown",
   "metadata": {},
   "source": [
    "假定控制附加噪声$\\epsilon$的噪声模型是指数分布。也就是说，$p(\\epsilon) = \\frac{1}{2}exp(-|\\epsilon|)$\n",
    "  - 写出模型$−logP(\\mathbf{y}∣\\mathbf{X})$下数据的负对数似然：$\\sum_{i=1}^n log(2) + |y^{(i)} - \\mathbf{w}^T\\mathbf{x}^{(i)} - b|$\n",
    "  - 你能写出解析解吗？不能\n",
    "  - 提出一种随机梯度下降算法来解决这个问题。哪里可能出错？（提示：当我们不断更新参数时，在驻点附近会发生什么情况）你能解决这个问题吗？\n",
    "    - 对比上面的高斯噪声采用的mean square error(MSE)，此处使用mean absolute error(MAE)作为损失函数。\n",
    "    - MAE在零点附近不可导，故在驻点附近仍然可能产生很大的梯度，导致剧烈波动难以收敛。\n",
    "    - 一般可以采用smooth L1-loss代替L1-loss，取得更稳定的收敛结果。"
   ]
  }
 ],
 "metadata": {
  "interpreter": {
   "hash": "88474ca0ac5bd289cfc2b7cff5e070fc2eb64be0b001ce0011ec337ea9a55b21"
  },
  "kernelspec": {
   "display_name": "Python 3.8.12 64-bit ('d2l': conda)",
   "language": "python",
   "name": "python3"
  },
  "language_info": {
   "codemirror_mode": {
    "name": "ipython",
    "version": 3
   },
   "file_extension": ".py",
   "mimetype": "text/x-python",
   "name": "python",
   "nbconvert_exporter": "python",
   "pygments_lexer": "ipython3",
   "version": "3.8.12"
  },
  "orig_nbformat": 4
 },
 "nbformat": 4,
 "nbformat_minor": 2
}

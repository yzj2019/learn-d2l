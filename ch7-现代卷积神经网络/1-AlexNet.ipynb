{
 "cells": [
  {
   "cell_type": "markdown",
   "metadata": {},
   "source": [
    "## AlexNet"
   ]
  },
  {
   "cell_type": "markdown",
   "metadata": {},
   "source": [
    "### 1、经典机器学习"
   ]
  },
  {
   "cell_type": "markdown",
   "metadata": {},
   "source": [
    "- 虽然上世纪90年代就有了一些神经网络加速卡，但仅靠它们还不足以开发出有大量参数的深层多通道多层卷积神经网络。\n",
    "- 此外，当时的数据集仍然相对较小。\n",
    "- 除了这些障碍，训练神经网络的一些关键技巧仍然缺失，包括启发式参数初始化、随机梯度下降的变体、非挤压激活函数和有效的正则化技术。"
   ]
  },
  {
   "cell_type": "markdown",
   "metadata": {},
   "source": [
    "#### 1.1、经典机器学习流水线"
   ]
  },
  {
   "cell_type": "markdown",
   "metadata": {},
   "source": [
    "- 获取一个有趣的数据集。在早期，收集这些数据集需要昂贵的传感器（在当时最先进的图像也就100万像素）；\n",
    "- 根据光学、几何学、其他知识以及偶然的发现，手工对数据集进行预处理；\n",
    "- 通过标准的特征提取算法，如SIFT（尺度不变特征变换，2004）和SURF（加速鲁棒特征，2006）或其他手动调整的流水线来输入数据；\n",
    "- 将提取的特征送入最喜欢的分类器中（例如线性模型或其它核方法），以训练分类器。"
   ]
  },
  {
   "cell_type": "markdown",
   "metadata": {},
   "source": [
    "凸优化问题，漂亮的定理，优雅的理论去证明模型的各种性质。"
   ]
  },
  {
   "cell_type": "markdown",
   "metadata": {},
   "source": [
    "#### 1.2、深度学习之前的CV"
   ]
  },
  {
   "cell_type": "markdown",
   "metadata": {},
   "source": [
    "- 更关注特征提取，不太关注后续的分类用机器学习模型；\n",
    "- 关注几何特征的描述（如多相机）；\n",
    "- 通过前提假设的限制，试图建模成凸优化问题，相应的有漂亮定理证明；\n",
    "- 如果前提假设满足了，效果会更好。\n",
    "\n",
    "SIFT（尺度不变特征变换，2004）、SURF（加速鲁棒特征，2006）、HOG（定向梯度直方图，2005）、bags of visual words（聚类）；\n",
    "\n",
    "另一组研究人员，包括Yann LeCun、Geoff Hinton、Yoshua Bengio、Andrew Ng、Shun ichi Amari和Juergen Schmidhuber，想法则与众不同：他们认为特征本身应该被学习。此外，他们还认为，在合理地复杂性前提下，特征应该由多个共同学习的神经网络层组成，每个层都有可学习的参数。在机器视觉中，最底层可能检测边缘、颜色和纹理。\n",
    "\n",
    "有趣的是，在AlexNet网络的最底层，模型学习到了一些类似于传统滤波器的特征抽取器。"
   ]
  },
  {
   "cell_type": "markdown",
   "metadata": {},
   "source": [
    "#### 1.3、深度网络的突破"
   ]
  },
  {
   "cell_type": "markdown",
   "metadata": {},
   "source": [
    "<img src='./figs/1.jpg' style=\"zoom:20%;\" />\n",
    "\n",
    "90年前后，神经网络，模型小；00年前后，核方法，简单且理论完备；数据增长的速度比算力增长的速度慢，使得有能力进一步挖掘数据中的东西。\n",
    "\n",
    "深度卷积神经网络的突破出现在2012年。突破可归因于两个关键因素。\n",
    "- 数据：\n",
    "   - 包含许多特征的深度模型需要大量的有标签数据，才能显著优于基于凸优化的传统方法（如线性方法和核方法）。\n",
    "   - 2010，大数据浪潮；2009，ImageNet数据集（李飞飞等）；\n",
    "- 硬件：\n",
    "   - 深度学习对计算资源要求很高，训练可能需要数百个迭代轮数，每次迭代都需要通过代价高昂的许多线性代数层传递数据；\n",
    "   - 这也是为什么在20世纪90年代至21世纪初，优化凸目标的简单算法是研究人员的首选；\n",
    "   - 用GPU做神经网络训练：高带宽，单GPU卡多芯片、单片多组、单组多处理单元的算力堆叠，并行化处理矩阵运算（cuda）；\n",
    "- ImageNet数据集：\n",
    "   - 自然物体的彩色图片；\n",
    "   - $469 \\times 387$；\n",
    "   - 本身1千万，用来做竞赛的1.2M张；\n",
    "   - 1000类。"
   ]
  },
  {
   "cell_type": "markdown",
   "metadata": {},
   "source": [
    "### 2、AlexNet"
   ]
  },
  {
   "cell_type": "markdown",
   "metadata": {},
   "source": [
    "- AlexNet赢得了2012年ImageNet竞赛；\n",
    "- 更深更大的LeNet；\n",
    "- 主要改进：\n",
    "  - 丢弃法：模型复杂度的控制，训练时加入无偏噪音，保证模型泛化性；\n",
    "  - ReLU：梯度比Sigmoid更大，且在0点处的一阶导数更好一点，支持更深的模型；\n",
    "  - MaxPooling：取最大值，输出值相对较大，梯度较大，使得训练更加容易；\n",
    "- 引起了计算机视觉方法论的改变！"
   ]
  },
  {
   "cell_type": "markdown",
   "metadata": {},
   "source": [
    "#### 2.1、模型架构"
   ]
  },
  {
   "cell_type": "markdown",
   "metadata": {},
   "source": [
    "![](https://zh-v2.d2l.ai/_images/alexnet.svg)\n",
    "\n",
    "更深；更大的池化窗口，更大的核窗口和步长，因为图片更大了；更多输出通道；\n",
    "- 激活函数从Sigmoid变成了ReLU，减缓梯度消失；\n",
    "- 隐藏全连接层后加入了Dropout；\n",
    "- 数据增强：随机翻转、随机截取图片的部分，随机调整亮度，随机调整色温；希望训练出的特征，对其他因素不敏感。\n",
    "\n",
    "复杂度对比：\n",
    "\n",
    "<img src='./figs/2.jpg' style=\"zoom:20%;\" />"
   ]
  },
  {
   "cell_type": "markdown",
   "metadata": {},
   "source": [
    "### 3、小结"
   ]
  },
  {
   "cell_type": "markdown",
   "metadata": {},
   "source": [
    "- AlexNet是更大更深的LeNet，$10\\times$参数个数，$260\\times$计算复杂度；\n",
    "- 新引入丢弃法、ReLU、最大池化层、数据增强，使得训练更容易；\n",
    "- AlexNet赢下2012ImageNet竞赛后，标志着新一轮神经网络热潮开始。"
   ]
  },
  {
   "cell_type": "markdown",
   "metadata": {},
   "source": [
    "### 4、实现"
   ]
  },
  {
   "cell_type": "markdown",
   "metadata": {},
   "source": [
    "由于早期GPU显存有限，原版的AlexNet采用了双数据流设计，使得每个GPU只负责存储和计算模型的一半参数。这里没有采用这一点。"
   ]
  },
  {
   "cell_type": "code",
   "execution_count": 7,
   "metadata": {},
   "outputs": [],
   "source": [
    "import torch\n",
    "from torch import nn\n",
    "import sys\n",
    "sys.path.append('..')\n",
    "import d2l\n",
    "import utils"
   ]
  },
  {
   "cell_type": "code",
   "execution_count": 2,
   "metadata": {},
   "outputs": [],
   "source": [
    "class AlexNet(nn.Module):\n",
    "    '''AlexNet的pytorch实现，去掉了原本的双流设计'''\n",
    "    def __init__(self):\n",
    "        # 1.调用父类的初始化\n",
    "        super(AlexNet, self).__init__()\n",
    "        # 2.定义我们需要哪些函数\n",
    "        self.conv1 = nn.Conv2d(1, 96, kernel_size=11, stride=4, padding=1)\n",
    "        self.conv2 = nn.Conv2d(96, 256, kernel_size=5, padding=2)\n",
    "        self.conv3 = nn.Conv2d(256, 384, kernel_size=3, padding=1)\n",
    "        self.conv4 = nn.Conv2d(384, 384, kernel_size=3, padding=1)\n",
    "        self.conv5 = nn.Conv2d(384, 256, kernel_size=3, padding=1)\n",
    "        self.maxpool2d = nn.MaxPool2d(kernel_size=3, stride=2)\n",
    "        self.relu = nn.ReLU()\n",
    "        self.flatten = nn.Flatten()     # 展平dim[1:]\n",
    "        self.linear1 = nn.Linear(6400, 4096)\n",
    "        self.Linear2 = nn.Linear(4096, 4096)\n",
    "        self.Linear3 = nn.Linear(4096, 1000)\n",
    "        self.dropout1 = nn.Dropout(p=0.5)\n",
    "        self.dropout2 = nn.Dropout(p=0.5)\n",
    "    def forward(self, X):\n",
    "        '''定义前向计算过程'''\n",
    "        # 卷积核1\n",
    "        y = self.conv1(X.view(-1, 3, 224, 224))\n",
    "        y = self.relu(y)\n",
    "        y = self.maxpool2d(y)\n",
    "        # 卷积核2\n",
    "        y = self.conv2(y)\n",
    "        y = self.relu(y)\n",
    "        y = self.maxpool2d(y)\n",
    "        # 卷积核3\n",
    "        y = self.conv3(y)\n",
    "        y = self.relu(y)\n",
    "        y = self.conv4(y)\n",
    "        y = self.relu(y)\n",
    "        y = self.conv5(y)\n",
    "        y = self.relu(y)\n",
    "        y = self.maxpool2d(y)\n",
    "        # 展平、线性层\n",
    "        y = self.flatten(y)\n",
    "        y = self.linear1(y)\n",
    "        y = self.relu(y)\n",
    "        y = self.dropout1(y)\n",
    "        y = self.Linear2(y)\n",
    "        y = self.relu(y)\n",
    "        y = self.dropout2(y)\n",
    "        y = self.Linear3(y)\n",
    "        return y"
   ]
  },
  {
   "cell_type": "code",
   "execution_count": 3,
   "metadata": {},
   "outputs": [],
   "source": [
    "net = nn.Sequential(\n",
    "    # 这里，我们使用一个11*11的更大窗口来捕捉对象。\n",
    "    # 同时，步幅为4，以减少输出的高度和宽度。\n",
    "    # 另外，输出通道的数目远大于LeNet\n",
    "    nn.Conv2d(1, 96, kernel_size=11, stride=4, padding=1), nn.ReLU(),\n",
    "    nn.MaxPool2d(kernel_size=3, stride=2),\n",
    "    # 减小卷积窗口，使用填充为2来使得输入与输出的高和宽一致，且增大输出通道数\n",
    "    nn.Conv2d(96, 256, kernel_size=5, padding=2), nn.ReLU(),\n",
    "    nn.MaxPool2d(kernel_size=3, stride=2),\n",
    "    # 使用三个连续的卷积层和较小的卷积窗口。\n",
    "    # 除了最后的卷积层，输出通道的数量进一步增加。\n",
    "    # 在前两个卷积层之后，汇聚层不用于减少输入的高度和宽度\n",
    "    nn.Conv2d(256, 384, kernel_size=3, padding=1), nn.ReLU(),\n",
    "    nn.Conv2d(384, 384, kernel_size=3, padding=1), nn.ReLU(),\n",
    "    nn.Conv2d(384, 256, kernel_size=3, padding=1), nn.ReLU(),\n",
    "    nn.MaxPool2d(kernel_size=3, stride=2),\n",
    "    nn.Flatten(),\n",
    "    # 这里，全连接层的输出数量是LeNet中的好几倍。使用dropout层来减轻过拟合\n",
    "    nn.Linear(6400, 4096), nn.ReLU(),\n",
    "    nn.Dropout(p=0.5),\n",
    "    nn.Linear(4096, 4096), nn.ReLU(),\n",
    "    nn.Dropout(p=0.5),\n",
    "    # 最后是输出层。由于这里使用Fashion-MNIST，所以用类别数为10，而非论文中的1000\n",
    "    nn.Linear(4096, 10))"
   ]
  },
  {
   "cell_type": "code",
   "execution_count": 4,
   "metadata": {},
   "outputs": [
    {
     "name": "stdout",
     "output_type": "stream",
     "text": [
      "Conv2d output shape:\t torch.Size([1, 96, 54, 54])\n",
      "ReLU output shape:\t torch.Size([1, 96, 54, 54])\n",
      "MaxPool2d output shape:\t torch.Size([1, 96, 26, 26])\n",
      "Conv2d output shape:\t torch.Size([1, 256, 26, 26])\n",
      "ReLU output shape:\t torch.Size([1, 256, 26, 26])\n",
      "MaxPool2d output shape:\t torch.Size([1, 256, 12, 12])\n",
      "Conv2d output shape:\t torch.Size([1, 384, 12, 12])\n",
      "ReLU output shape:\t torch.Size([1, 384, 12, 12])\n",
      "Conv2d output shape:\t torch.Size([1, 384, 12, 12])\n",
      "ReLU output shape:\t torch.Size([1, 384, 12, 12])\n",
      "Conv2d output shape:\t torch.Size([1, 256, 12, 12])\n",
      "ReLU output shape:\t torch.Size([1, 256, 12, 12])\n",
      "MaxPool2d output shape:\t torch.Size([1, 256, 5, 5])\n",
      "Flatten output shape:\t torch.Size([1, 6400])\n",
      "Linear output shape:\t torch.Size([1, 4096])\n",
      "ReLU output shape:\t torch.Size([1, 4096])\n",
      "Dropout output shape:\t torch.Size([1, 4096])\n",
      "Linear output shape:\t torch.Size([1, 4096])\n",
      "ReLU output shape:\t torch.Size([1, 4096])\n",
      "Dropout output shape:\t torch.Size([1, 4096])\n",
      "Linear output shape:\t torch.Size([1, 10])\n"
     ]
    }
   ],
   "source": [
    "X = torch.randn(1, 1, 224, 224)\n",
    "for layer in net:\n",
    "    X=layer(X)\n",
    "    print(layer.__class__.__name__,'output shape:\\t',X.shape)"
   ]
  },
  {
   "cell_type": "code",
   "execution_count": 5,
   "metadata": {},
   "outputs": [],
   "source": [
    "batch_size = 128\n",
    "train_iter, test_iter = d2l.load_data_fashion_mnist(batch_size, '../data', resize=224)"
   ]
  },
  {
   "cell_type": "code",
   "execution_count": 8,
   "metadata": {},
   "outputs": [
    {
     "name": "stdout",
     "output_type": "stream",
     "text": [
      "loss 0.329, train acc 0.879, test acc 0.882\n",
      "3822.2 examples/sec on cuda:7\n"
     ]
    },
    {
     "data": {
      "image/png": "[encoded data removed]",
      "text/plain": [
       "<Figure size 252x180 with 1 Axes>"
      ]
     },
     "metadata": {
      "needs_background": "light"
     },
     "output_type": "display_data"
    }
   ],
   "source": [
    "lr, num_epochs = 0.01, 10\n",
    "d2l.train_ch6(net, train_iter, test_iter, num_epochs, lr, utils.try_gpu(7))"
   ]
  }
 ],
 "metadata": {
  "interpreter": {
   "hash": "88474ca0ac5bd289cfc2b7cff5e070fc2eb64be0b001ce0011ec337ea9a55b21"
  },
  "kernelspec": {
   "display_name": "Python 3.8.12 64-bit ('d2l': conda)",
   "language": "python",
   "name": "python3"
  },
  "language_info": {
   "codemirror_mode": {
    "name": "ipython",
    "version": 3
   },
   "file_extension": ".py",
   "mimetype": "text/x-python",
   "name": "python",
   "nbconvert_exporter": "python",
   "pygments_lexer": "ipython3",
   "version": "3.8.12"
  },
  "orig_nbformat": 4
 },
 "nbformat": 4,
 "nbformat_minor": 2
}

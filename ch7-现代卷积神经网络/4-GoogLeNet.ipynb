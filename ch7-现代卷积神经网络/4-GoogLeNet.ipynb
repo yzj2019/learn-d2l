{
 "cells": [
  {
   "cell_type": "markdown",
   "metadata": {},
   "source": [
    "## 含并行联结的网络：GoogLeNet"
   ]
  },
  {
   "cell_type": "markdown",
   "metadata": {},
   "source": [
    "- 2014年的ImageNet图像识别挑战赛中大放异彩；\n",
    "- 重点是解决了什么样大小的卷积核最合适的问题；\n",
    "- 本文的一个观点是，有时使用不同大小的卷积核组合是有利的。\n",
    "\n",
    "下面介绍一个稍微简化的GoogLeNet版本：我们省略了一些为稳定训练而添加的特殊特性，但是现在有了更好的训练算法，这些特性不是必要的。"
   ]
  },
  {
   "cell_type": "code",
   "execution_count": 2,
   "metadata": {},
   "outputs": [],
   "source": [
    "import torch\n",
    "from torch import nn\n",
    "from torch.nn import functional as F\n",
    "import sys\n",
    "sys.path.append('..')\n",
    "import utils\n",
    "import d2l"
   ]
  },
  {
   "cell_type": "markdown",
   "metadata": {},
   "source": [
    "### 1、Inception块"
   ]
  },
  {
   "cell_type": "markdown",
   "metadata": {},
   "source": [
    "4个路径，从不同层面抽取信息，然后在输出通道维上做合并：\n",
    "- 各个通道使用不同窗口大小的卷积层；有用了MaxPool；\n",
    "- 用1 $\\times$ 1的卷积，来降低通道数，控制模型复杂度；每条路上的通道数可能不同；\n",
    "- 四条路径都使用合适的填充来使输入与输出的高和宽一致，最后我们将每条线路的输出在通道维度上连结，并构成Inception块的输出。\n",
    "\n",
    "<img src='https://d2l.ai/_images/inception.svg' style=\"zoom:100%;\" />\n",
    "\n",
    "<img src='./figs/3.jpg' style=\"zoom:20%;\" />\n",
    "\n",
    "在Inception块中，通常调整的超参数是*每层输出通道数*。\n",
    "\n",
    "具体用什么数值？调出来的，指导思想：（待补充）"
   ]
  },
  {
   "cell_type": "code",
   "execution_count": 3,
   "metadata": {},
   "outputs": [],
   "source": [
    "class Inception(nn.Module):\n",
    "    '''\n",
    "    Inception块的定义，输出通道数 = c1 + c2[1] + c3[1] + c4\n",
    "\n",
    "    Parameters:\n",
    "    - in_channels: 输入通道数\n",
    "    - c1: int，线路1（1x1卷积）的输出通道数\n",
    "    - c2: tuple，线路2（1x1卷积接3x3卷积）两层各自的输出通道数\n",
    "    - c3: tuple，线路3（1x1卷积接3x3卷积）两层各自的输出通道数\n",
    "    - c4: int，线路4（$3\\times 3$最大池化接$1\\tiems 1$卷积）的输出通道数\n",
    "    '''\n",
    "    # c1--c4是每条路径的输出通道数\n",
    "    def __init__(self, in_channels, c1, c2, c3, c4, **kwargs):\n",
    "        super(Inception, self).__init__(**kwargs)\n",
    "        # 线路1，单1x1卷积层\n",
    "        self.p1_1 = nn.Conv2d(in_channels, c1, kernel_size=1)\n",
    "        # 线路2，1x1卷积层后接3x3卷积层\n",
    "        self.p2_1 = nn.Conv2d(in_channels, c2[0], kernel_size=1)\n",
    "        self.p2_2 = nn.Conv2d(c2[0], c2[1], kernel_size=3, padding=1)\n",
    "        # 线路3，1x1卷积层后接5x5卷积层\n",
    "        self.p3_1 = nn.Conv2d(in_channels, c3[0], kernel_size=1)\n",
    "        self.p3_2 = nn.Conv2d(c3[0], c3[1], kernel_size=5, padding=2)\n",
    "        # 线路4，3x3最大汇聚层后接1x1卷积层\n",
    "        self.p4_1 = nn.MaxPool2d(kernel_size=3, stride=1, padding=1)\n",
    "        self.p4_2 = nn.Conv2d(in_channels, c4, kernel_size=1)\n",
    "\n",
    "    def forward(self, x):\n",
    "        p1 = F.relu(self.p1_1(x))\n",
    "        p2 = F.relu(self.p2_2(F.relu(self.p2_1(x))))\n",
    "        p3 = F.relu(self.p3_2(F.relu(self.p3_1(x))))\n",
    "        p4 = F.relu(self.p4_2(self.p4_1(x)))\n",
    "        # 在通道维度上连结输出\n",
    "        return torch.cat((p1, p2, p3, p4), dim=1)       # 四维：（batch、channel、height、width）"
   ]
  },
  {
   "cell_type": "markdown",
   "metadata": {},
   "source": [
    "### 2、GoogLeNet"
   ]
  },
  {
   "cell_type": "markdown",
   "metadata": {},
   "source": [
    "- 5段，9个Incption块（不改变高宽只改变通道数）\n",
    "- 最后放一个Global AveragePooling，得到一个长为输入通道数的向量，再放入全连接层；\n",
    "\n",
    "<img src='./figs/4.jpg' style=\"zoom:30%;\" />\n",
    "\n",
    "下面逐一实现各段："
   ]
  },
  {
   "cell_type": "markdown",
   "metadata": {},
   "source": [
    "### 2.1、段1&2"
   ]
  },
  {
   "cell_type": "markdown",
   "metadata": {},
   "source": [
    "<img src='./figs/5.jpg' style=\"zoom:30%;\" />\n",
    "\n",
    "更小的窗口"
   ]
  },
  {
   "cell_type": "code",
   "execution_count": 4,
   "metadata": {},
   "outputs": [],
   "source": [
    "b1 = nn.Sequential(nn.Conv2d(1, 64, kernel_size=7, stride=2, padding=3),\n",
    "                   nn.ReLU(),\n",
    "                   nn.MaxPool2d(kernel_size=3, stride=2, padding=1))\n",
    "\n",
    "b2 = nn.Sequential(nn.Conv2d(64, 64, kernel_size=1),\n",
    "                   nn.ReLU(),\n",
    "                   nn.Conv2d(64, 192, kernel_size=3, padding=1),\n",
    "                   nn.ReLU(),\n",
    "                   nn.MaxPool2d(kernel_size=3, stride=2, padding=1))"
   ]
  },
  {
   "cell_type": "markdown",
   "metadata": {},
   "source": [
    "### 2.2、段3"
   ]
  },
  {
   "cell_type": "markdown",
   "metadata": {},
   "source": [
    "<img src='./figs/6.jpg' style=\"zoom:30%;\" />\n",
    "\n",
    "估计是做了超参数搜索，长得特别奇怪。"
   ]
  },
  {
   "cell_type": "code",
   "execution_count": 5,
   "metadata": {},
   "outputs": [],
   "source": [
    "b3 = nn.Sequential(Inception(192, 64, (96, 128), (16, 32), 32),\n",
    "                   Inception(256, 128, (128, 192), (32, 96), 64),\n",
    "                   nn.MaxPool2d(kernel_size=3, stride=2, padding=1))"
   ]
  },
  {
   "cell_type": "markdown",
   "metadata": {},
   "source": [
    "### 2.3、段4&5"
   ]
  },
  {
   "cell_type": "markdown",
   "metadata": {},
   "source": [
    "<img src='./figs/7.jpg' style=\"zoom:30%;\" />"
   ]
  },
  {
   "cell_type": "code",
   "execution_count": 6,
   "metadata": {},
   "outputs": [],
   "source": [
    "b4 = nn.Sequential(Inception(480, 192, (96, 208), (16, 48), 64),\n",
    "                   Inception(512, 160, (112, 224), (24, 64), 64),\n",
    "                   Inception(512, 128, (128, 256), (24, 64), 64),\n",
    "                   Inception(512, 112, (144, 288), (32, 64), 64),\n",
    "                   Inception(528, 256, (160, 320), (32, 128), 128),\n",
    "                   nn.MaxPool2d(kernel_size=3, stride=2, padding=1))\n",
    "\n",
    "b5 = nn.Sequential(Inception(832, 256, (160, 320), (32, 128), 128),\n",
    "                   Inception(832, 384, (192, 384), (48, 128), 128),\n",
    "                   nn.AdaptiveAvgPool2d((1,1)),                                 # 微调，不用计算卷积核的大小，方便\n",
    "                   nn.Flatten())"
   ]
  },
  {
   "cell_type": "markdown",
   "metadata": {},
   "source": [
    "### 2.4、实现"
   ]
  },
  {
   "cell_type": "code",
   "execution_count": 16,
   "metadata": {},
   "outputs": [],
   "source": [
    "class GoogLeNet(nn.Module):\n",
    "    '''\n",
    "    GoogLeNet原版实现\n",
    "\n",
    "    Parameters:\n",
    "    - in_channels: 输入的通道数\n",
    "    - classes: 类别数\n",
    "    '''\n",
    "    def __init__(self,in_channels,classes):\n",
    "        super(GoogLeNet,self).__init__()\n",
    "        self.model = nn.Sequential(\n",
    "            nn.Conv2d(in_channels,out_channels=64,kernel_size=7,stride=2,padding=3),nn.ReLU(),\n",
    "            nn.MaxPool2d(kernel_size=3,stride=2),\n",
    "            nn.Conv2d(in_channels=64,out_channels=64,kernel_size=1),nn.ReLU(),\n",
    "            nn.Conv2d(in_channels=64,out_channels=192,kernel_size=3,padding=1),nn.ReLU(),\n",
    "            nn.MaxPool2d(kernel_size=3,stride=2),\n",
    "            Inception(192,c1=64,c2=[96,128],c3=[16,32],c4=32),\n",
    "            Inception(256,c1=128,c2=[128,192],c3=[32,96],c4=64),\n",
    "            nn.MaxPool2d(kernel_size=3,stride=2,padding=1),\n",
    "            Inception(480,c1=192,c2=[96,208],c3=[16,48],c4=64),\n",
    "            Inception(512,c1=160,c2=[112,224],c3=[24,64],c4=64),\n",
    "            Inception(512,c1=128,c2=[128,256],c3=[24,64],c4=64),\n",
    "            Inception(512,c1=112,c2=[144,288],c3=[32,64],c4=64),\n",
    "            Inception(528,c1=256,c2=[160,320],c3=[32,128],c4=128),\n",
    "            nn.MaxPool2d(kernel_size=3,stride=2,padding=1),\n",
    "            Inception(832,c1=256,c2=[160,320],c3=[32,128],c4=128),\n",
    "            Inception(832,c1=384,c2=[192,384],c3=[48,128],c4=128),\n",
    "            nn.AvgPool2d(kernel_size=7,stride=1),                       # 由于只是针对ImageNet实现的，所以没有用nn.AdaptiveAvgPool2d((1,1))\n",
    "            nn.Dropout(p=0.4),\n",
    "            nn.Flatten(),\n",
    "            nn.Linear(1024,classes),\n",
    "            nn.Softmax(dim=1)\n",
    "        )\n",
    "\n",
    "    def forward(self,X:torch.tensor):\n",
    "        return self.model(X)\n",
    "\n",
    "    def test(self, X:torch.tensor):\n",
    "        for layer in self.model:\n",
    "            X = layer(X)\n",
    "            print(layer.__class__.__name__,'output shape:',X.shape)"
   ]
  },
  {
   "cell_type": "markdown",
   "metadata": {},
   "source": [
    "### 3、训练"
   ]
  },
  {
   "cell_type": "code",
   "execution_count": 17,
   "metadata": {},
   "outputs": [
    {
     "name": "stdout",
     "output_type": "stream",
     "text": [
      "Conv2d output shape: torch.Size([1, 64, 112, 112])\n",
      "ReLU output shape: torch.Size([1, 64, 112, 112])\n",
      "MaxPool2d output shape: torch.Size([1, 64, 55, 55])\n",
      "Conv2d output shape: torch.Size([1, 64, 55, 55])\n",
      "ReLU output shape: torch.Size([1, 64, 55, 55])\n",
      "Conv2d output shape: torch.Size([1, 192, 55, 55])\n",
      "ReLU output shape: torch.Size([1, 192, 55, 55])\n",
      "MaxPool2d output shape: torch.Size([1, 192, 27, 27])\n",
      "Inception output shape: torch.Size([1, 256, 27, 27])\n",
      "Inception output shape: torch.Size([1, 480, 27, 27])\n",
      "MaxPool2d output shape: torch.Size([1, 480, 14, 14])\n",
      "Inception output shape: torch.Size([1, 512, 14, 14])\n",
      "Inception output shape: torch.Size([1, 512, 14, 14])\n",
      "Inception output shape: torch.Size([1, 512, 14, 14])\n",
      "Inception output shape: torch.Size([1, 528, 14, 14])\n",
      "Inception output shape: torch.Size([1, 832, 14, 14])\n",
      "MaxPool2d output shape: torch.Size([1, 832, 7, 7])\n",
      "Inception output shape: torch.Size([1, 832, 7, 7])\n",
      "Inception output shape: torch.Size([1, 1024, 7, 7])\n",
      "AvgPool2d output shape: torch.Size([1, 1024, 1, 1])\n",
      "Dropout output shape: torch.Size([1, 1024, 1, 1])\n",
      "Flatten output shape: torch.Size([1, 1024])\n",
      "Linear output shape: torch.Size([1, 10])\n",
      "Softmax output shape: torch.Size([1, 10])\n"
     ]
    }
   ],
   "source": [
    "net = GoogLeNet(1, 10)\n",
    "X = torch.rand(size=(1, 1, 224, 224))\n",
    "net.test(X)"
   ]
  },
  {
   "cell_type": "code",
   "execution_count": 18,
   "metadata": {},
   "outputs": [
    {
     "name": "stdout",
     "output_type": "stream",
     "text": [
      "loss 1.798, train acc 0.663, test acc 0.657\n",
      "1072.1 examples/sec on cuda:1\n"
     ]
    },
    {
     "data": {
      "image/png": "[encoded data removed]",
      "text/plain": [
       "<Figure size 252x180 with 1 Axes>"
      ]
     },
     "metadata": {
      "needs_background": "light"
     },
     "output_type": "display_data"
    }
   ],
   "source": [
    "lr, num_epochs, batch_size = 0.1, 10, 128\n",
    "train_iter, test_iter = d2l.load_data_fashion_mnist(batch_size, '../data', resize=224)\n",
    "d2l.train_ch6(net, train_iter, test_iter, num_epochs, lr, utils.try_gpu(1))"
   ]
  },
  {
   "cell_type": "markdown",
   "metadata": {},
   "source": [
    "直接使用原版的GoogLeNet，在Fashion-MNIST上效果不好；\n",
    "\n",
    "GoogLeNet模型的计算复杂，而且不如VGG那样便于修改通道数。为了使Fashion-MNIST上的训练短小精悍，我们将输入的高和宽从224降到96，这简化了计算。"
   ]
  },
  {
   "cell_type": "code",
   "execution_count": 8,
   "metadata": {},
   "outputs": [
    {
     "name": "stdout",
     "output_type": "stream",
     "text": [
      "loss 0.270, train acc 0.897, test acc 0.884\n",
      "3161.2 examples/sec on cuda:1\n"
     ]
    },
    {
     "data": {
      "image/png": "[encoded data removed]",
      "text/plain": [
       "<Figure size 252x180 with 1 Axes>"
      ]
     },
     "metadata": {
      "needs_background": "light"
     },
     "output_type": "display_data"
    }
   ],
   "source": [
    "net = nn.Sequential(b1, b2, b3, b4, b5, nn.Linear(1024, 10))\n",
    "lr, num_epochs, batch_size = 0.1, 10, 128\n",
    "train_iter, test_iter = d2l.load_data_fashion_mnist(batch_size, '../data', resize=96)\n",
    "d2l.train_ch6(net, train_iter, test_iter, num_epochs, lr, utils.try_gpu(1))"
   ]
  },
  {
   "cell_type": "markdown",
   "metadata": {},
   "source": [
    "为什么会有这样的波动曲线？？？"
   ]
  },
  {
   "cell_type": "markdown",
   "metadata": {},
   "source": [
    "### 4、后续变种"
   ]
  },
  {
   "cell_type": "markdown",
   "metadata": {},
   "source": [
    "Inception块后续变种：\n",
    "- Inception-BN(V2)：使用 batch normalization；\n",
    "- Inception-V3：修改了Inception块：（小核多卷几次，比大核好，虽然更贵）\n",
    "  - 段3，替换$5\\times 5$为多个$3\\times 3$卷积层；\n",
    "  - 段4，替换$3\\times 3$为$1\\times 7$和$7\\times 1$卷积层；替换$5\\times 5$为两个$1\\times 7$和$7\\times 1$卷积层；\n",
    "  - 段5，替换$3\\times 3$为并行的$1\\times 3$和$3\\times 1$卷积层；替换$5\\times 5$为$3\\times 3$后接并行的$1\\times 3$和$3\\times 1$卷积层；\n",
    "  - 更深。\n",
    "- Inception-V4：使用残差连接。"
   ]
  },
  {
   "cell_type": "markdown",
   "metadata": {},
   "source": [
    "### 5、小结"
   ]
  },
  {
   "cell_type": "markdown",
   "metadata": {},
   "source": [
    "- Inception块使用4条有不同超参数的卷积层和池化层的路径，来抽取不同的信息；\n",
    "  - 模型参数小（指相对同层数网络而言），计算复杂度低；\n",
    "  - 但内部设计复杂，不方便调参，难复现；\n",
    "- GoogLeNet使用9个Inception块，是第一个达到上百层（不是上百深度）的网络；后续有一系列改进，适应时代。"
   ]
  }
 ],
 "metadata": {
  "interpreter": {
   "hash": "88474ca0ac5bd289cfc2b7cff5e070fc2eb64be0b001ce0011ec337ea9a55b21"
  },
  "kernelspec": {
   "display_name": "Python 3.8.12 64-bit ('d2l': conda)",
   "language": "python",
   "name": "python3"
  },
  "language_info": {
   "codemirror_mode": {
    "name": "ipython",
    "version": 3
   },
   "file_extension": ".py",
   "mimetype": "text/x-python",
   "name": "python",
   "nbconvert_exporter": "python",
   "pygments_lexer": "ipython3",
   "version": "3.8.12"
  },
  "orig_nbformat": 4
 },
 "nbformat": 4,
 "nbformat_minor": 2
}

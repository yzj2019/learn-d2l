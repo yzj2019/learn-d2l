{
 "cells": [
  {
   "cell_type": "markdown",
   "metadata": {},
   "source": [
    "## 16.pytorch神经网络基础"
   ]
  },
  {
   "cell_type": "markdown",
   "metadata": {},
   "source": [
    "### 模型构造：层和块\n",
    "#### 多层感知机"
   ]
  },
  {
   "cell_type": "code",
   "execution_count": 2,
   "metadata": {},
   "outputs": [
    {
     "name": "stdout",
     "output_type": "stream",
     "text": [
      "tensor([[0.5175, 0.1732, 0.8512, 0.8381, 0.5448, 0.8256, 0.1194, 0.6489, 0.2193,\n",
      "         0.8980, 0.4596, 0.8320, 0.1020, 0.3465, 0.7953, 0.5723, 0.9298, 0.9319,\n",
      "         0.0987, 0.2856],\n",
      "        [0.2775, 0.9765, 0.5425, 0.2138, 0.1589, 0.4008, 0.9799, 0.8888, 0.3543,\n",
      "         0.3927, 0.3271, 0.7939, 0.4276, 0.9852, 0.0830, 0.2145, 0.8860, 0.9563,\n",
      "         0.9683, 0.8577]])\n"
     ]
    },
    {
     "data": {
      "text/plain": [
       "tensor([[-0.2688, -0.1244,  0.0865, -0.2033,  0.0247, -0.0149,  0.1657, -0.2272,\n",
       "          0.2499,  0.0331],\n",
       "        [-0.3969, -0.1346,  0.0112, -0.2184,  0.0828,  0.0018,  0.1726, -0.2197,\n",
       "          0.0602, -0.0211]], grad_fn=<AddmmBackward0>)"
      ]
     },
     "execution_count": 2,
     "metadata": {},
     "output_type": "execute_result"
    }
   ],
   "source": [
    "import torch\n",
    "from torch import nn\n",
    "from torch.nn import functional as F\n",
    "\n",
    "net = nn.Sequential(nn.Linear(20, 256), nn.ReLU(), nn.Linear(256, 10))\n",
    "X = torch.rand(2, 20)       # 输入的第一个维度，同样还是batch维\n",
    "print(X)\n",
    "net(X)"
   ]
  },
  {
   "cell_type": "markdown",
   "metadata": {},
   "source": [
    "#### 自定义module的过程"
   ]
  },
  {
   "cell_type": "code",
   "execution_count": 5,
   "metadata": {},
   "outputs": [],
   "source": [
    "class MLP(nn.Module):\n",
    "    # 会继承一些好用的函数比如backward\n",
    "    def __init__(self):\n",
    "        # 1.调用父类的初始化\n",
    "        super().__init__()\n",
    "        # 2.定义我们需要哪些函数\n",
    "        self.hidden = nn.Linear(20, 256)        # 线性层，输入20输出256\n",
    "        self.out = nn.Linear(256, 10)\n",
    "    def forward(self, X):\n",
    "        '''定义前向计算过程'''\n",
    "        return self.out(F.relu(self.hidden(X)))"
   ]
  },
  {
   "cell_type": "code",
   "execution_count": 6,
   "metadata": {},
   "outputs": [
    {
     "data": {
      "text/plain": [
       "tensor([[-0.1846, -0.0425, -0.0554, -0.0921, -0.0746,  0.2927,  0.2423,  0.1171,\n",
       "         -0.2417, -0.0370],\n",
       "        [-0.1424,  0.1910,  0.0593, -0.0455, -0.1061,  0.3382,  0.2765,  0.3321,\n",
       "         -0.2208, -0.0991]], grad_fn=<AddmmBackward0>)"
      ]
     },
     "execution_count": 6,
     "metadata": {},
     "output_type": "execute_result"
    }
   ],
   "source": [
    "net = MLP()\n",
    "net(X)"
   ]
  },
  {
   "cell_type": "markdown",
   "metadata": {},
   "source": [
    "#### 顺序块"
   ]
  },
  {
   "cell_type": "code",
   "execution_count": 7,
   "metadata": {},
   "outputs": [
    {
     "data": {
      "text/plain": [
       "tensor([[ 0.3094, -0.0311, -0.1410, -0.2803, -0.0132,  0.2654, -0.1254, -0.0846,\n",
       "          0.0162,  0.0166],\n",
       "        [ 0.2975,  0.0189, -0.1170, -0.0953,  0.0987,  0.1663, -0.1277, -0.1232,\n",
       "          0.0694,  0.1193]], grad_fn=<AddmmBackward0>)"
      ]
     },
     "execution_count": 7,
     "metadata": {},
     "output_type": "execute_result"
    }
   ],
   "source": [
    "class MySequential(nn.Module):\n",
    "    def __init__(self, *args):\n",
    "        super().__init__()\n",
    "        for block in args:\n",
    "            self._modules[block] = block        # 按序的字典，pytorch会知道里面是我们需要的那些层\n",
    "    def forward(self, X):\n",
    "        for block in self._modules.values():\n",
    "            X = block(X)\n",
    "        return X\n",
    "\n",
    "net = MySequential(nn.Linear(20, 256), nn.ReLU(), nn.Linear(256, 10))\n",
    "net(X)"
   ]
  },
  {
   "cell_type": "markdown",
   "metadata": {},
   "source": [
    "自定义module的好处在于:\n",
    "\n",
    "   - 我们能在init和forward的过程中执行大量自定义计算\n",
    "   - 重写父类的一些方法，可定制性更高"
   ]
  },
  {
   "cell_type": "code",
   "execution_count": 9,
   "metadata": {},
   "outputs": [
    {
     "data": {
      "text/plain": [
       "tensor(-0.0197, grad_fn=<SumBackward0>)"
      ]
     },
     "execution_count": 9,
     "metadata": {},
     "output_type": "execute_result"
    }
   ],
   "source": [
    "class FixedHiddenMLP(nn.Module):\n",
    "    def __init__(self):\n",
    "        super().__init__()\n",
    "        self.rand_weight = torch.rand((20, 20), requires_grad=False)    # 随机的、不参与训练的weights\n",
    "        self.linear = nn.Linear(20, 20)\n",
    "    def forward(self, X):\n",
    "        X = self.linear(X)\n",
    "        X = F.relu(torch.mm(X, self.rand_weight) + 1)                   # X做完linear后，与rand_weight做矩阵乘\n",
    "        X = self.linear(X)\n",
    "        while X.abs().sum() > 1:\n",
    "            X /= 2\n",
    "        return X.sum()\n",
    "\n",
    "net = FixedHiddenMLP()\n",
    "net(X)"
   ]
  },
  {
   "cell_type": "markdown",
   "metadata": {},
   "source": [
    "#### 灵活地嵌套使用"
   ]
  },
  {
   "cell_type": "code",
   "execution_count": 10,
   "metadata": {},
   "outputs": [
    {
     "data": {
      "text/plain": [
       "tensor(-0.1347, grad_fn=<SumBackward0>)"
      ]
     },
     "execution_count": 10,
     "metadata": {},
     "output_type": "execute_result"
    }
   ],
   "source": [
    "class NestMLP(nn.Module):\n",
    "    def __init__(self):\n",
    "        super().__init__()\n",
    "        self.net = nn.Sequential(nn.Linear(20, 64), nn.ReLU(), nn.Linear(64, 32), nn.ReLU())\n",
    "        self.linear = nn.Linear(32, 16)\n",
    "    def forward(self, X):\n",
    "        return self.linear(self.net(X))\n",
    "\n",
    "chimera = nn.Sequential(NestMLP(), nn.Linear(16, 20), FixedHiddenMLP())\n",
    "chimera(X)"
   ]
  }
 ],
 "metadata": {
  "interpreter": {
   "hash": "878400bca9f201265ce894e6d365bcef6c9956049454f140c653aa3f55dc8757"
  },
  "kernelspec": {
   "display_name": "Python 3.6.15 64-bit ('web_info': conda)",
   "language": "python",
   "name": "python3"
  },
  "language_info": {
   "codemirror_mode": {
    "name": "ipython",
    "version": 3
   },
   "file_extension": ".py",
   "mimetype": "text/x-python",
   "name": "python",
   "nbconvert_exporter": "python",
   "pygments_lexer": "ipython3",
   "version": "3.6.15"
  },
  "orig_nbformat": 4
 },
 "nbformat": 4,
 "nbformat_minor": 2
}
